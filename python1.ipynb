{
 "cells": [
  {
   "cell_type": "code",
   "execution_count": 1,
   "id": "ef7750a3-1e56-4ab5-92bc-c5bf0f8971f6",
   "metadata": {},
   "outputs": [],
   "source": [
    "talebeler1 = [\n",
    "    {\"Mahmizər Həsənova\":{\"degree\": \"IT\", \"courses\":[\"analytics\", \"statistics\"], \"no\": 1234}},\n",
    "    {\"Mədinə Abdulsəmədova\":{\"degree\": \"Business Informatics\", \"courses\":[\"analytics\", \"statistics\"], \"no\": 1234}},\n",
    "    {\"Adil Rəhimov\":{\"degree\": \"Automation\", \"courses\":[\"analytics\"], \"no\": 1234}},\n",
    "    {\"Rafiq Rafiqzadə\":{\"degree\": \"Automation\", \"courses\":[\"analytics\"], \"no\": 1234}},\n",
    "    {\"Anar Əhmədov\":{\"degree\": \"Data Science\", \"courses\":[\"analytics\"], \"no\": 1234}},\n",
    "    {\"Minəxanım Hacımuradova\":{\"degree\": \"Computer Engineering\", \"courses\":[\"analytics\"], \"no\": 1234}},\n",
    "    {\"Riyad Əhmədov\":{\"degree\": \"IT\", \"courses\":[\"analytics\"], \"no\": 1234}},\n",
    "    {\"Riyad Əbdürəhimov\":{\"degree\": \"IT\", \"courses\":[\"analytics\"], \"no\": 1234}},\n",
    "    {\"Lalə Məmmədli\":{\"degree\": \"Artificial Intelligence\", \"courses\":[\"analytics\"], \"no\": 1234}},\n",
    "    {\"İlyas Abbasov\":{\"degree\": \"Computer Science\", \"courses\":[\"analytics\"], \"no\": 1234}},\n",
    "    {\"Yusif Ağasalamlı \":{\"degree\": \"Computer Science\", \"courses\":[\"analytics\"], \"no\": 1234}},\n",
    "    {\"Ləman Rəhimli\":{\"degree\": \"Maths\", \"courses\":[\"analytics\"], \"no\": 1234}},\n",
    "    {\"Həbibə Məmmədli\":{\"degree\": \"Maths\", \"courses\":[\"analytics\"], \"no\": 1234}},\n",
    "    {\"Lala Taghiyeva\":{\"degree\": \"Policy Analysis\", \"courses\":[\"analytics\"], \"no\": 1234}},\n",
    "    {\"Niyyət Rzayev\":{\"degree\": \"Automation\", \"courses\":[\"analytics\"], \"no\": 1234}}\n",
    "]"
   ]
  },
  {
   "cell_type": "code",
   "execution_count": 7,
   "id": "3bba5d8e-76c9-461c-a886-eac7ae49b658",
   "metadata": {},
   "outputs": [
    {
     "name": "stdout",
     "output_type": "stream",
     "text": [
      "Maths : [dict_keys(['Ləman Rəhimli']), dict_keys(['Həbibə Məmmədli'])]\n",
      "Business Informatics : [dict_keys(['Mədinə Abdulsəmədova'])]\n",
      "Artificial Intelligence : [dict_keys(['Lalə Məmmədli'])]\n",
      "Automation : [dict_keys(['Adil Rəhimov']), dict_keys(['Rafiq Rafiqzadə']), dict_keys(['Niyyət Rzayev'])]\n",
      "Data Science : [dict_keys(['Anar Əhmədov'])]\n",
      "IT : [dict_keys(['Mahmizər Həsənova']), dict_keys(['Riyad Əhmədov']), dict_keys(['Riyad Əbdürəhimov'])]\n",
      "Computer Engineering : [dict_keys(['Minəxanım Hacımuradova'])]\n",
      "Computer Science : [dict_keys(['İlyas Abbasov']), dict_keys(['Yusif Ağasalamlı '])]\n",
      "Policy Analysis : [dict_keys(['Lala Taghiyeva'])]\n"
     ]
    }
   ],
   "source": [
    "def filtirle(ders):\n",
    "    list2=[]\n",
    "    for i in talebeler1:\n",
    "        for a in i.values():\n",
    "            if ders in a['degree']:\n",
    "                list2.append(i.keys())\n",
    "    return list2\n",
    "b=[]\n",
    "for i in talebeler1:\n",
    "    for a in i.values():\n",
    "        b.append(a['degree'])        \n",
    "for c in set(b):\n",
    "    print(c,\":\",filtirle(c))"
   ]
  },
  {
   "cell_type": "code",
   "execution_count": null,
   "id": "47d629dc-e457-4bf7-a2b9-efea3d523606",
   "metadata": {},
   "outputs": [],
   "source": []
  },
  {
   "cell_type": "code",
   "execution_count": null,
   "id": "0cf98a9e-cd55-4e97-bc8c-7a934dbb297e",
   "metadata": {},
   "outputs": [],
   "source": []
  },
  {
   "cell_type": "code",
   "execution_count": null,
   "id": "34bebb4e-4b48-40c1-bf21-997884a4e537",
   "metadata": {},
   "outputs": [],
   "source": []
  }
 ],
 "metadata": {
  "kernelspec": {
   "display_name": "Python 3 (ipykernel)",
   "language": "python",
   "name": "python3"
  },
  "language_info": {
   "codemirror_mode": {
    "name": "ipython",
    "version": 3
   },
   "file_extension": ".py",
   "mimetype": "text/x-python",
   "name": "python",
   "nbconvert_exporter": "python",
   "pygments_lexer": "ipython3",
   "version": "3.10.4"
  }
 },
 "nbformat": 4,
 "nbformat_minor": 5
}
